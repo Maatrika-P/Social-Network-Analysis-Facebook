{
 "cells": [
  {
   "cell_type": "code",
   "execution_count": 2,
   "metadata": {},
   "outputs": [],
   "source": [
    "import numpy as np\n",
    "\n",
    "edges = np.loadtxt('facebook_combined.txt', dtype=int)\n",
    "np.savetxt('synthetic.edges', edges, fmt='%d')\n"
   ]
  },
  {
   "cell_type": "code",
   "execution_count": 3,
   "metadata": {},
   "outputs": [],
   "source": [
    "num_nodes = len(np.unique(edges))\n",
    "num_features = 10  #no. of features per node\n",
    "\n",
    "#get random features for each node\n",
    "features = np.random.rand(num_nodes, num_features)\n",
    "np.savetxt('synthetic.feat', features)\n"
   ]
  },
  {
   "cell_type": "code",
   "execution_count": 4,
   "metadata": {},
   "outputs": [],
   "source": [
    "ego_node = 0\n",
    "\n",
    "#get random features for the ego node\n",
    "ego_features = np.random.rand(num_features)\n",
    "np.savetxt('synthetic.egofeat', ego_features)\n"
   ]
  },
  {
   "cell_type": "code",
   "execution_count": 5,
   "metadata": {},
   "outputs": [],
   "source": [
    "num_circles = 5  #no. of circles\n",
    "\n",
    "#create synthetic community assignments for nodes\n",
    "circle_assignments = np.random.randint(0, num_circles, size=num_nodes)\n",
    "np.savetxt('synthetic.circles', circle_assignments, fmt='%d')\n"
   ]
  },
  {
   "cell_type": "markdown",
   "metadata": {},
   "source": [
    "if the network no. is 0, then the following files will help"
   ]
  },
  {
   "cell_type": "code",
   "execution_count": 6,
   "metadata": {},
   "outputs": [],
   "source": [
    "import numpy as np\n",
    "\n",
    "network_number = 0\n",
    "ch = str(network_number)\n",
    "\n",
    "#make synthetic data\n",
    "numpy_matrix = np.random.randint(0, 100, size=(10, 2))\n",
    "circles_data = [[1, 2, 3], [4, 5, 6], [7, 8, 9]]\n",
    "feat_data = [[10, 20, 30], [40, 50, 60], [70, 80, 90]]\n",
    "\n",
    "#save them\n",
    "edges_file = ch + \".edges\"\n",
    "with open(edges_file, \"w\") as f:\n",
    "    for row in numpy_matrix:\n",
    "        f.write(f\"{row[0]} {row[1]}\\n\")\n",
    "\n",
    "circles_file = ch + \".circles\"\n",
    "with open(circles_file, \"w\") as f:\n",
    "    for circle in circles_data:\n",
    "        f.write(\"\\t\".join(map(str, circle)) + \"\\n\")\n",
    "\n",
    "feat_file = ch + \".feat\"\n",
    "with open(feat_file, \"w\") as f:\n",
    "    for feat in feat_data:\n",
    "        f.write(\"0 \" + \" \".join(map(str, feat)) + \"\\n\")\n"
   ]
  }
 ],
 "metadata": {
  "kernelspec": {
   "display_name": ".venv",
   "language": "python",
   "name": "python3"
  },
  "language_info": {
   "codemirror_mode": {
    "name": "ipython",
    "version": 3
   },
   "file_extension": ".py",
   "mimetype": "text/x-python",
   "name": "python",
   "nbconvert_exporter": "python",
   "pygments_lexer": "ipython3",
   "version": "3.11.3"
  },
  "orig_nbformat": 4
 },
 "nbformat": 4,
 "nbformat_minor": 2
}
